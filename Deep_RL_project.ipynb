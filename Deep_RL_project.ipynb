{
 "cells": [
  {
   "cell_type": "code",
   "execution_count": 1,
   "id": "050c4f72",
   "metadata": {},
   "outputs": [],
   "source": [
    "# **installing dependencies** "
   ]
  },
  {
   "cell_type": "code",
   "execution_count": 3,
   "id": "6afb2cdc",
   "metadata": {},
   "outputs": [
    {
     "name": "stdout",
     "output_type": "stream",
     "text": [
      "Collecting keras-rl\n",
      "  Downloading keras-rl-0.4.2.tar.gz (40 kB)\n",
      "Requirement already satisfied: keras>=2.0.7 in c:\\users\\niloofar\\anaconda3\\lib\\site-packages (from keras-rl) (2.10.0)\n",
      "Building wheels for collected packages: keras-rl\n",
      "  Building wheel for keras-rl (setup.py): started\n",
      "  Building wheel for keras-rl (setup.py): finished with status 'done'\n",
      "  Created wheel for keras-rl: filename=keras_rl-0.4.2-py3-none-any.whl size=48380 sha256=c259db02f7f7bfbd244be88f318074855c4a2cd0c8165bb6fb370b6845456bd5\n",
      "  Stored in directory: c:\\users\\niloofar\\appdata\\local\\pip\\cache\\wheels\\44\\fb\\c7\\96ef7b9a9ded58c3300148907fd398167f44965686e7d04e0f\n",
      "Successfully built keras-rl\n",
      "Installing collected packages: keras-rl\n",
      "Successfully installed keras-rl-0.4.2\n",
      "Requirement already satisfied: tensorflow==2.10 in c:\\users\\niloofar\\anaconda3\\lib\\site-packages (2.10.0)\n",
      "Requirement already satisfied: typing-extensions>=3.6.6 in c:\\users\\niloofar\\anaconda3\\lib\\site-packages (from tensorflow==2.10) (3.10.0.2)\n",
      "Requirement already satisfied: packaging in c:\\users\\niloofar\\anaconda3\\lib\\site-packages (from tensorflow==2.10) (21.0)\n",
      "Requirement already satisfied: grpcio<2.0,>=1.24.3 in c:\\users\\niloofar\\anaconda3\\lib\\site-packages (from tensorflow==2.10) (1.42.0)\n",
      "Requirement already satisfied: google-pasta>=0.1.1 in c:\\users\\niloofar\\anaconda3\\lib\\site-packages (from tensorflow==2.10) (0.2.0)\n",
      "Requirement already satisfied: keras<2.11,>=2.10.0 in c:\\users\\niloofar\\anaconda3\\lib\\site-packages (from tensorflow==2.10) (2.10.0)\n",
      "Requirement already satisfied: keras-preprocessing>=1.1.1 in c:\\users\\niloofar\\anaconda3\\lib\\site-packages (from tensorflow==2.10) (1.1.2)\n",
      "Requirement already satisfied: protobuf<3.20,>=3.9.2 in c:\\users\\niloofar\\anaconda3\\lib\\site-packages (from tensorflow==2.10) (3.19.6)\n",
      "Requirement already satisfied: h5py>=2.9.0 in c:\\users\\niloofar\\anaconda3\\lib\\site-packages (from tensorflow==2.10) (3.2.1)\n",
      "Requirement already satisfied: tensorflow-estimator<2.11,>=2.10.0 in c:\\users\\niloofar\\anaconda3\\lib\\site-packages (from tensorflow==2.10) (2.10.0)\n",
      "Requirement already satisfied: termcolor>=1.1.0 in c:\\users\\niloofar\\anaconda3\\lib\\site-packages (from tensorflow==2.10) (2.1.0)\n",
      "Requirement already satisfied: tensorboard<2.11,>=2.10 in c:\\users\\niloofar\\anaconda3\\lib\\site-packages (from tensorflow==2.10) (2.10.0)\n",
      "Requirement already satisfied: opt-einsum>=2.3.2 in c:\\users\\niloofar\\anaconda3\\lib\\site-packages (from tensorflow==2.10) (3.3.0)\n",
      "Requirement already satisfied: flatbuffers>=2.0 in c:\\users\\niloofar\\anaconda3\\lib\\site-packages (from tensorflow==2.10) (2.0)\n",
      "Requirement already satisfied: numpy>=1.20 in c:\\users\\niloofar\\anaconda3\\lib\\site-packages (from tensorflow==2.10) (1.26.4)\n",
      "Requirement already satisfied: setuptools in c:\\users\\niloofar\\anaconda3\\lib\\site-packages (from tensorflow==2.10) (58.0.4)\n",
      "Requirement already satisfied: wrapt>=1.11.0 in c:\\users\\niloofar\\anaconda3\\lib\\site-packages (from tensorflow==2.10) (1.12.1)\n",
      "Requirement already satisfied: six>=1.12.0 in c:\\users\\niloofar\\anaconda3\\lib\\site-packages (from tensorflow==2.10) (1.16.0)\n",
      "Requirement already satisfied: astunparse>=1.6.0 in c:\\users\\niloofar\\anaconda3\\lib\\site-packages (from tensorflow==2.10) (1.6.3)\n",
      "Requirement already satisfied: libclang>=13.0.0 in c:\\users\\niloofar\\anaconda3\\lib\\site-packages (from tensorflow==2.10) (18.1.1)\n",
      "Requirement already satisfied: gast<=0.4.0,>=0.2.1 in c:\\users\\niloofar\\anaconda3\\lib\\site-packages (from tensorflow==2.10) (0.4.0)\n",
      "Requirement already satisfied: tensorflow-io-gcs-filesystem>=0.23.1 in c:\\users\\niloofar\\anaconda3\\lib\\site-packages (from tensorflow==2.10) (0.31.0)\n",
      "Requirement already satisfied: absl-py>=1.0.0 in c:\\users\\niloofar\\anaconda3\\lib\\site-packages (from tensorflow==2.10) (1.3.0)\n",
      "Requirement already satisfied: wheel<1.0,>=0.23.0 in c:\\users\\niloofar\\anaconda3\\lib\\site-packages (from astunparse>=1.6.0->tensorflow==2.10) (0.37.0)\n",
      "Requirement already satisfied: requests<3,>=2.21.0 in c:\\users\\niloofar\\anaconda3\\lib\\site-packages (from tensorboard<2.11,>=2.10->tensorflow==2.10) (2.26.0)\n",
      "Requirement already satisfied: google-auth-oauthlib<0.5,>=0.4.1 in c:\\users\\niloofar\\anaconda3\\lib\\site-packages (from tensorboard<2.11,>=2.10->tensorflow==2.10) (0.4.4)\n",
      "Requirement already satisfied: tensorboard-data-server<0.7.0,>=0.6.0 in c:\\users\\niloofar\\anaconda3\\lib\\site-packages (from tensorboard<2.11,>=2.10->tensorflow==2.10) (0.6.1)\n",
      "Requirement already satisfied: markdown>=2.6.8 in c:\\users\\niloofar\\anaconda3\\lib\\site-packages (from tensorboard<2.11,>=2.10->tensorflow==2.10) (3.3.4)\n",
      "Requirement already satisfied: tensorboard-plugin-wit>=1.6.0 in c:\\users\\niloofar\\anaconda3\\lib\\site-packages (from tensorboard<2.11,>=2.10->tensorflow==2.10) (1.8.1)\n",
      "Requirement already satisfied: google-auth<3,>=1.6.3 in c:\\users\\niloofar\\anaconda3\\lib\\site-packages (from tensorboard<2.11,>=2.10->tensorflow==2.10) (2.6.0)\n",
      "Requirement already satisfied: werkzeug>=1.0.1 in c:\\users\\niloofar\\anaconda3\\lib\\site-packages (from tensorboard<2.11,>=2.10->tensorflow==2.10) (2.0.2)\n",
      "Requirement already satisfied: cachetools<6.0,>=2.0.0 in c:\\users\\niloofar\\anaconda3\\lib\\site-packages (from google-auth<3,>=1.6.3->tensorboard<2.11,>=2.10->tensorflow==2.10) (4.2.2)\n",
      "Requirement already satisfied: rsa<5,>=3.1.4 in c:\\users\\niloofar\\anaconda3\\lib\\site-packages (from google-auth<3,>=1.6.3->tensorboard<2.11,>=2.10->tensorflow==2.10) (4.7.2)\n",
      "Requirement already satisfied: pyasn1-modules>=0.2.1 in c:\\users\\niloofar\\anaconda3\\lib\\site-packages (from google-auth<3,>=1.6.3->tensorboard<2.11,>=2.10->tensorflow==2.10) (0.2.8)\n",
      "Requirement already satisfied: requests-oauthlib>=0.7.0 in c:\\users\\niloofar\\anaconda3\\lib\\site-packages (from google-auth-oauthlib<0.5,>=0.4.1->tensorboard<2.11,>=2.10->tensorflow==2.10) (1.3.0)\n",
      "Requirement already satisfied: pyasn1<0.5.0,>=0.4.6 in c:\\users\\niloofar\\anaconda3\\lib\\site-packages (from pyasn1-modules>=0.2.1->google-auth<3,>=1.6.3->tensorboard<2.11,>=2.10->tensorflow==2.10) (0.4.8)\n",
      "Requirement already satisfied: charset-normalizer~=2.0.0 in c:\\users\\niloofar\\anaconda3\\lib\\site-packages (from requests<3,>=2.21.0->tensorboard<2.11,>=2.10->tensorflow==2.10) (2.0.4)\n",
      "Requirement already satisfied: idna<4,>=2.5 in c:\\users\\niloofar\\anaconda3\\lib\\site-packages (from requests<3,>=2.21.0->tensorboard<2.11,>=2.10->tensorflow==2.10) (3.2)\n",
      "Requirement already satisfied: certifi>=2017.4.17 in c:\\users\\niloofar\\anaconda3\\lib\\site-packages (from requests<3,>=2.21.0->tensorboard<2.11,>=2.10->tensorflow==2.10) (2022.12.7)\n",
      "Requirement already satisfied: urllib3<1.27,>=1.21.1 in c:\\users\\niloofar\\anaconda3\\lib\\site-packages (from requests<3,>=2.21.0->tensorboard<2.11,>=2.10->tensorflow==2.10) (1.26.7)\n",
      "Requirement already satisfied: oauthlib>=3.0.0 in c:\\users\\niloofar\\anaconda3\\lib\\site-packages (from requests-oauthlib>=0.7.0->google-auth-oauthlib<0.5,>=0.4.1->tensorboard<2.11,>=2.10->tensorflow==2.10) (3.2.2)\n",
      "Requirement already satisfied: pyparsing>=2.0.2 in c:\\users\\niloofar\\anaconda3\\lib\\site-packages (from packaging->tensorflow==2.10) (3.0.4)\n",
      "Requirement already satisfied: gym in c:\\users\\niloofar\\anaconda3\\lib\\site-packages (0.24.1)\n",
      "Requirement already satisfied: importlib-metadata>=4.8.0 in c:\\users\\niloofar\\anaconda3\\lib\\site-packages (from gym) (4.11.4)\n",
      "Requirement already satisfied: numpy>=1.18.0 in c:\\users\\niloofar\\anaconda3\\lib\\site-packages (from gym) (1.26.4)\n",
      "Requirement already satisfied: gym-notices>=0.0.4 in c:\\users\\niloofar\\anaconda3\\lib\\site-packages (from gym) (0.0.7)\n",
      "Requirement already satisfied: cloudpickle>=1.2.0 in c:\\users\\niloofar\\anaconda3\\lib\\site-packages (from gym) (2.0.0)\n",
      "Requirement already satisfied: zipp>=0.5 in c:\\users\\niloofar\\anaconda3\\lib\\site-packages (from importlib-metadata>=4.8.0->gym) (3.6.0)\n",
      "Requirement already satisfied: keras in c:\\users\\niloofar\\anaconda3\\lib\\site-packages (2.10.0)\n",
      "Collecting keras-rl2\n",
      "  Downloading keras_rl2-1.0.5-py3-none-any.whl (52 kB)\n",
      "Requirement already satisfied: tensorflow in c:\\users\\niloofar\\anaconda3\\lib\\site-packages (from keras-rl2) (2.10.0)\n",
      "Requirement already satisfied: packaging in c:\\users\\niloofar\\anaconda3\\lib\\site-packages (from tensorflow->keras-rl2) (21.0)\n",
      "Requirement already satisfied: h5py>=2.9.0 in c:\\users\\niloofar\\anaconda3\\lib\\site-packages (from tensorflow->keras-rl2) (3.2.1)\n",
      "Requirement already satisfied: protobuf<3.20,>=3.9.2 in c:\\users\\niloofar\\anaconda3\\lib\\site-packages (from tensorflow->keras-rl2) (3.19.6)\n",
      "Requirement already satisfied: flatbuffers>=2.0 in c:\\users\\niloofar\\anaconda3\\lib\\site-packages (from tensorflow->keras-rl2) (2.0)\n",
      "Requirement already satisfied: grpcio<2.0,>=1.24.3 in c:\\users\\niloofar\\anaconda3\\lib\\site-packages (from tensorflow->keras-rl2) (1.42.0)\n",
      "Requirement already satisfied: absl-py>=1.0.0 in c:\\users\\niloofar\\anaconda3\\lib\\site-packages (from tensorflow->keras-rl2) (1.3.0)\n",
      "Requirement already satisfied: setuptools in c:\\users\\niloofar\\anaconda3\\lib\\site-packages (from tensorflow->keras-rl2) (58.0.4)\n",
      "Requirement already satisfied: google-pasta>=0.1.1 in c:\\users\\niloofar\\anaconda3\\lib\\site-packages (from tensorflow->keras-rl2) (0.2.0)\n",
      "Requirement already satisfied: libclang>=13.0.0 in c:\\users\\niloofar\\anaconda3\\lib\\site-packages (from tensorflow->keras-rl2) (18.1.1)\n",
      "Requirement already satisfied: numpy>=1.20 in c:\\users\\niloofar\\anaconda3\\lib\\site-packages (from tensorflow->keras-rl2) (1.26.4)\n",
      "Requirement already satisfied: termcolor>=1.1.0 in c:\\users\\niloofar\\anaconda3\\lib\\site-packages (from tensorflow->keras-rl2) (2.1.0)\n",
      "Requirement already satisfied: keras<2.11,>=2.10.0 in c:\\users\\niloofar\\anaconda3\\lib\\site-packages (from tensorflow->keras-rl2) (2.10.0)\n",
      "Requirement already satisfied: typing-extensions>=3.6.6 in c:\\users\\niloofar\\anaconda3\\lib\\site-packages (from tensorflow->keras-rl2) (3.10.0.2)\n",
      "Requirement already satisfied: gast<=0.4.0,>=0.2.1 in c:\\users\\niloofar\\anaconda3\\lib\\site-packages (from tensorflow->keras-rl2) (0.4.0)\n",
      "Requirement already satisfied: tensorflow-io-gcs-filesystem>=0.23.1 in c:\\users\\niloofar\\anaconda3\\lib\\site-packages (from tensorflow->keras-rl2) (0.31.0)\n",
      "Requirement already satisfied: opt-einsum>=2.3.2 in c:\\users\\niloofar\\anaconda3\\lib\\site-packages (from tensorflow->keras-rl2) (3.3.0)\n",
      "Requirement already satisfied: keras-preprocessing>=1.1.1 in c:\\users\\niloofar\\anaconda3\\lib\\site-packages (from tensorflow->keras-rl2) (1.1.2)\n",
      "Requirement already satisfied: tensorflow-estimator<2.11,>=2.10.0 in c:\\users\\niloofar\\anaconda3\\lib\\site-packages (from tensorflow->keras-rl2) (2.10.0)\n",
      "Requirement already satisfied: wrapt>=1.11.0 in c:\\users\\niloofar\\anaconda3\\lib\\site-packages (from tensorflow->keras-rl2) (1.12.1)\n",
      "Requirement already satisfied: tensorboard<2.11,>=2.10 in c:\\users\\niloofar\\anaconda3\\lib\\site-packages (from tensorflow->keras-rl2) (2.10.0)\n",
      "Requirement already satisfied: astunparse>=1.6.0 in c:\\users\\niloofar\\anaconda3\\lib\\site-packages (from tensorflow->keras-rl2) (1.6.3)\n",
      "Requirement already satisfied: six>=1.12.0 in c:\\users\\niloofar\\anaconda3\\lib\\site-packages (from tensorflow->keras-rl2) (1.16.0)\n",
      "Requirement already satisfied: wheel<1.0,>=0.23.0 in c:\\users\\niloofar\\anaconda3\\lib\\site-packages (from astunparse>=1.6.0->tensorflow->keras-rl2) (0.37.0)\n",
      "Requirement already satisfied: google-auth<3,>=1.6.3 in c:\\users\\niloofar\\anaconda3\\lib\\site-packages (from tensorboard<2.11,>=2.10->tensorflow->keras-rl2) (2.6.0)\n",
      "Requirement already satisfied: tensorboard-data-server<0.7.0,>=0.6.0 in c:\\users\\niloofar\\anaconda3\\lib\\site-packages (from tensorboard<2.11,>=2.10->tensorflow->keras-rl2) (0.6.1)\n",
      "Requirement already satisfied: tensorboard-plugin-wit>=1.6.0 in c:\\users\\niloofar\\anaconda3\\lib\\site-packages (from tensorboard<2.11,>=2.10->tensorflow->keras-rl2) (1.8.1)\n",
      "Requirement already satisfied: markdown>=2.6.8 in c:\\users\\niloofar\\anaconda3\\lib\\site-packages (from tensorboard<2.11,>=2.10->tensorflow->keras-rl2) (3.3.4)\n",
      "Requirement already satisfied: requests<3,>=2.21.0 in c:\\users\\niloofar\\anaconda3\\lib\\site-packages (from tensorboard<2.11,>=2.10->tensorflow->keras-rl2) (2.26.0)\n",
      "Requirement already satisfied: werkzeug>=1.0.1 in c:\\users\\niloofar\\anaconda3\\lib\\site-packages (from tensorboard<2.11,>=2.10->tensorflow->keras-rl2) (2.0.2)\n",
      "Requirement already satisfied: google-auth-oauthlib<0.5,>=0.4.1 in c:\\users\\niloofar\\anaconda3\\lib\\site-packages (from tensorboard<2.11,>=2.10->tensorflow->keras-rl2) (0.4.4)\n",
      "Requirement already satisfied: cachetools<6.0,>=2.0.0 in c:\\users\\niloofar\\anaconda3\\lib\\site-packages (from google-auth<3,>=1.6.3->tensorboard<2.11,>=2.10->tensorflow->keras-rl2) (4.2.2)\n",
      "Requirement already satisfied: rsa<5,>=3.1.4 in c:\\users\\niloofar\\anaconda3\\lib\\site-packages (from google-auth<3,>=1.6.3->tensorboard<2.11,>=2.10->tensorflow->keras-rl2) (4.7.2)\n",
      "Requirement already satisfied: pyasn1-modules>=0.2.1 in c:\\users\\niloofar\\anaconda3\\lib\\site-packages (from google-auth<3,>=1.6.3->tensorboard<2.11,>=2.10->tensorflow->keras-rl2) (0.2.8)\n",
      "Requirement already satisfied: requests-oauthlib>=0.7.0 in c:\\users\\niloofar\\anaconda3\\lib\\site-packages (from google-auth-oauthlib<0.5,>=0.4.1->tensorboard<2.11,>=2.10->tensorflow->keras-rl2) (1.3.0)\n",
      "Requirement already satisfied: pyasn1<0.5.0,>=0.4.6 in c:\\users\\niloofar\\anaconda3\\lib\\site-packages (from pyasn1-modules>=0.2.1->google-auth<3,>=1.6.3->tensorboard<2.11,>=2.10->tensorflow->keras-rl2) (0.4.8)\n",
      "Requirement already satisfied: idna<4,>=2.5 in c:\\users\\niloofar\\anaconda3\\lib\\site-packages (from requests<3,>=2.21.0->tensorboard<2.11,>=2.10->tensorflow->keras-rl2) (3.2)\n",
      "Requirement already satisfied: certifi>=2017.4.17 in c:\\users\\niloofar\\anaconda3\\lib\\site-packages (from requests<3,>=2.21.0->tensorboard<2.11,>=2.10->tensorflow->keras-rl2) (2022.12.7)\n",
      "Requirement already satisfied: urllib3<1.27,>=1.21.1 in c:\\users\\niloofar\\anaconda3\\lib\\site-packages (from requests<3,>=2.21.0->tensorboard<2.11,>=2.10->tensorflow->keras-rl2) (1.26.7)\n",
      "Requirement already satisfied: charset-normalizer~=2.0.0 in c:\\users\\niloofar\\anaconda3\\lib\\site-packages (from requests<3,>=2.21.0->tensorboard<2.11,>=2.10->tensorflow->keras-rl2) (2.0.4)\n",
      "Requirement already satisfied: oauthlib>=3.0.0 in c:\\users\\niloofar\\anaconda3\\lib\\site-packages (from requests-oauthlib>=0.7.0->google-auth-oauthlib<0.5,>=0.4.1->tensorboard<2.11,>=2.10->tensorflow->keras-rl2) (3.2.2)\n",
      "Requirement already satisfied: pyparsing>=2.0.2 in c:\\users\\niloofar\\anaconda3\\lib\\site-packages (from packaging->tensorflow->keras-rl2) (3.0.4)\n",
      "Installing collected packages: keras-rl2\n",
      "Successfully installed keras-rl2-1.0.5\n"
     ]
    }
   ],
   "source": [
    "!pip install tensorflow==2.10\n",
    "!pip install gym\n",
    "!pip install keras\n",
    "!pip install keras-rl2"
   ]
  },
  {
   "cell_type": "code",
   "execution_count": null,
   "id": "cc240c80",
   "metadata": {},
   "outputs": [],
   "source": [
    "## test random envirenment with OpenAI Gym"
   ]
  },
  {
   "cell_type": "code",
   "execution_count": 4,
   "id": "9d4678a7",
   "metadata": {},
   "outputs": [],
   "source": [
    "import gym\n",
    "import random"
   ]
  },
  {
   "cell_type": "code",
   "execution_count": 6,
   "id": "f5cc13f9",
   "metadata": {},
   "outputs": [],
   "source": [
    "#setup envirenment\n",
    "env=gym.make('Acrobot-v1')"
   ]
  },
  {
   "cell_type": "code",
   "execution_count": 8,
   "id": "bb63842d",
   "metadata": {},
   "outputs": [],
   "source": [
    "# take number of all the space available in our envienment\n",
    "states=env.observation_space.shape[0]"
   ]
  },
  {
   "cell_type": "code",
   "execution_count": 9,
   "id": "fe7502ff",
   "metadata": {},
   "outputs": [],
   "source": [
    "# extract number of actions\n",
    "actions=env.action_space.n"
   ]
  },
  {
   "cell_type": "code",
   "execution_count": 10,
   "id": "4181b2d7",
   "metadata": {},
   "outputs": [
    {
     "name": "stdout",
     "output_type": "stream",
     "text": [
      "6\n",
      "3\n"
     ]
    }
   ],
   "source": [
    "print(states)\n",
    "print(actions)"
   ]
  },
  {
   "cell_type": "code",
   "execution_count": 15,
   "id": "7d91bd64",
   "metadata": {},
   "outputs": [
    {
     "name": "stdout",
     "output_type": "stream",
     "text": [
      "Episode:1,Score:-500.0\n",
      "Episode:2,Score:-500.0\n",
      "Episode:3,Score:-500.0\n",
      "Episode:4,Score:-500.0\n",
      "Episode:5,Score:-500.0\n",
      "Episode:6,Score:-500.0\n",
      "Episode:7,Score:-500.0\n",
      "Episode:8,Score:-500.0\n",
      "Episode:9,Score:-500.0\n",
      "Episode:10,Score:-500.0\n"
     ]
    }
   ],
   "source": [
    "# random movments of acrobate \n",
    "episodes=10\n",
    "for episodes in range(1,episodes+1):\n",
    "        env.reset()\n",
    "        done=False\n",
    "        score=0\n",
    "        while not done:\n",
    "            env.render()\n",
    "            action=random.choice([-1,0,1])\n",
    "            n_state, reward, done, info =env.step(action)\n",
    "            score+= reward\n",
    "        print('Episode:{},Score:{}'.format(episodes,score))"
   ]
  },
  {
   "cell_type": "code",
   "execution_count": null,
   "id": "eaf7e86e",
   "metadata": {},
   "outputs": [],
   "source": [
    "# Create a deep learning model with keras"
   ]
  },
  {
   "cell_type": "code",
   "execution_count": 45,
   "id": "eb33f409",
   "metadata": {},
   "outputs": [],
   "source": [
    "import numpy as np\n",
    "import keras\n",
    "from tensorflow.keras.models import Sequential\n",
    "from tensorflow.keras.layers import Dense,Flatten\n",
    "from tensorflow.keras.optimizers import Adam"
   ]
  },
  {
   "cell_type": "code",
   "execution_count": 81,
   "id": "27d2f0d2",
   "metadata": {},
   "outputs": [],
   "source": [
    "def buildmodel(actions,states):\n",
    "    model= keras.Sequential(\n",
    "    [\n",
    "        Flatten(input_shape=(1,states)),\n",
    "        Dense(24, activation='relu'),\n",
    "        Dense(24, activation='relu'),\n",
    "        Dense(actions,activation='linear')\n",
    "    ])\n",
    "    return model"
   ]
  },
  {
   "cell_type": "code",
   "execution_count": 82,
   "id": "b3877b9b",
   "metadata": {},
   "outputs": [],
   "source": [
    "model=buildmodel(actions,states)"
   ]
  },
  {
   "cell_type": "code",
   "execution_count": 83,
   "id": "10e9ff56",
   "metadata": {},
   "outputs": [
    {
     "name": "stdout",
     "output_type": "stream",
     "text": [
      "Model: \"sequential_6\"\n",
      "_________________________________________________________________\n",
      " Layer (type)                Output Shape              Param #   \n",
      "=================================================================\n",
      " flatten_7 (Flatten)         (None, 6)                 0         \n",
      "                                                                 \n",
      " dense_20 (Dense)            (None, 24)                168       \n",
      "                                                                 \n",
      " dense_21 (Dense)            (None, 24)                600       \n",
      "                                                                 \n",
      " dense_22 (Dense)            (None, 3)                 75        \n",
      "                                                                 \n",
      "=================================================================\n",
      "Total params: 843\n",
      "Trainable params: 843\n",
      "Non-trainable params: 0\n",
      "_________________________________________________________________\n"
     ]
    }
   ],
   "source": [
    "model.summary()"
   ]
  },
  {
   "cell_type": "code",
   "execution_count": 74,
   "id": "b15dd7cd",
   "metadata": {},
   "outputs": [],
   "source": [
    "#Build Agent with Keras-RL"
   ]
  },
  {
   "cell_type": "code",
   "execution_count": 84,
   "id": "17d7717a",
   "metadata": {},
   "outputs": [],
   "source": [
    "from rl.agents import DQNAgent #deep-Q-learning\n",
    "from rl.policy import BoltzmannQPolicy \n",
    "from rl.memory import SequentialMemory"
   ]
  },
  {
   "cell_type": "code",
   "execution_count": 85,
   "id": "ec130838",
   "metadata": {},
   "outputs": [],
   "source": [
    "def build_agent(model, actions):\n",
    "    policy = BoltzmannQPolicy()\n",
    "    memory = SequentialMemory(limit=50000, window_length=1)\n",
    "    dqn = DQNAgent(model=model, memory=memory, policy=policy, \n",
    "                  nb_actions=actions, nb_steps_warmup=10, target_model_update=1e-2)\n",
    "    return dqn"
   ]
  },
  {
   "cell_type": "code",
   "execution_count": null,
   "id": "f767c85b",
   "metadata": {},
   "outputs": [
    {
     "name": "stdout",
     "output_type": "stream",
     "text": [
      "Training for 50000 steps ...\n",
      "Interval 1 (0 steps performed)\n",
      "10000/10000 [==============================] - 72s 7ms/step - reward: -0.9975\n",
      "32 episodes - episode_reward: -309.344 [-500.000, -143.000] - loss: 0.913 - mae: 19.166 - mean_q: -28.078\n",
      "\n",
      "Interval 2 (10000 steps performed)\n",
      " 1789/10000 [====>.........................] - ETA: 1:12 - reward: -0.9944"
     ]
    }
   ],
   "source": [
    "dqn = build_agent(model, actions)\n",
    "dqn.compile(Adam(lr=1e-2), metrics=['mae'])\n",
    "dqn.fit(env, nb_steps=50000, visualize=False, verbose=1)"
   ]
  },
  {
   "cell_type": "code",
   "execution_count": null,
   "id": "ad629c91",
   "metadata": {},
   "outputs": [],
   "source": [
    "scores=dqn.test(env,nb_episodes=10, visualize=False)"
   ]
  },
  {
   "cell_type": "code",
   "execution_count": null,
   "id": "36524d62",
   "metadata": {},
   "outputs": [],
   "source": [
    "_=dqn.test(env,nb_episodes=10, visualize=True)"
   ]
  },
  {
   "cell_type": "code",
   "execution_count": null,
   "id": "7f257588",
   "metadata": {},
   "outputs": [],
   "source": [
    "#Save Weights"
   ]
  },
  {
   "cell_type": "code",
   "execution_count": 58,
   "id": "27f497a2",
   "metadata": {},
   "outputs": [],
   "source": [
    "dqn.save_weights('Acrobat_dqn_weights.h5f', overwrite=True)"
   ]
  },
  {
   "cell_type": "code",
   "execution_count": null,
   "id": "5c3262ea",
   "metadata": {},
   "outputs": [],
   "source": [
    "# delete everything"
   ]
  },
  {
   "cell_type": "code",
   "execution_count": null,
   "id": "9fa7dcb2",
   "metadata": {},
   "outputs": [],
   "source": [
    "del model\n",
    "del dqn\n",
    "del env"
   ]
  },
  {
   "cell_type": "code",
   "execution_count": null,
   "id": "1d69bfa9",
   "metadata": {},
   "outputs": [],
   "source": [
    "#reload model"
   ]
  },
  {
   "cell_type": "code",
   "execution_count": 64,
   "id": "4a7f9c85",
   "metadata": {},
   "outputs": [],
   "source": [
    "env=gym.make('Acrobot-v1')\n",
    "actions=env.action_space.n\n",
    "states=env.observation_space.shape[0]\n",
    "model=buildmodel(actions,states)\n",
    "dqn=build_agent(model, actions)\n",
    "dqn.compile(Adam(lr=1e-2),metrics=['mae'])"
   ]
  },
  {
   "cell_type": "code",
   "execution_count": 65,
   "id": "6320770f",
   "metadata": {},
   "outputs": [],
   "source": [
    "dqn.load_weights('Acrobat_dqn_weights.h5f')"
   ]
  },
  {
   "cell_type": "code",
   "execution_count": 66,
   "id": "e72a1058",
   "metadata": {},
   "outputs": [
    {
     "name": "stdout",
     "output_type": "stream",
     "text": [
      "Testing for 10 episodes ...\n",
      "Episode 1: reward: -91.000, steps: 92\n",
      "Episode 2: reward: -77.000, steps: 78\n",
      "Episode 3: reward: -77.000, steps: 78\n",
      "Episode 4: reward: -76.000, steps: 77\n",
      "Episode 5: reward: -79.000, steps: 80\n",
      "Episode 6: reward: -85.000, steps: 86\n",
      "Episode 7: reward: -88.000, steps: 89\n",
      "Episode 8: reward: -85.000, steps: 86\n",
      "Episode 9: reward: -79.000, steps: 80\n",
      "Episode 10: reward: -76.000, steps: 77\n"
     ]
    }
   ],
   "source": [
    "_=dqn.test(env,nb_episodes=10, visualize=True)"
   ]
  }
 ],
 "metadata": {
  "kernelspec": {
   "display_name": "Python 3 (ipykernel)",
   "language": "python",
   "name": "python3"
  },
  "language_info": {
   "codemirror_mode": {
    "name": "ipython",
    "version": 3
   },
   "file_extension": ".py",
   "mimetype": "text/x-python",
   "name": "python",
   "nbconvert_exporter": "python",
   "pygments_lexer": "ipython3",
   "version": "3.9.7"
  }
 },
 "nbformat": 4,
 "nbformat_minor": 5
}
